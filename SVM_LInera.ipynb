{
 "cells": [
  {
   "cell_type": "code",
   "execution_count": 1,
   "metadata": {},
   "outputs": [],
   "source": [
    "from sklearn.svm import SVR\n",
    "from sklearn.model_selection import KFold,train_test_split\n",
    "from sklearn.metrics import mean_squared_error,r2_score\n",
    "import numpy as np\n",
    "import pandas as pd"
   ]
  },
  {
   "cell_type": "code",
   "execution_count": 2,
   "metadata": {},
   "outputs": [
    {
     "name": "stdout",
     "output_type": "stream",
     "text": [
      "         Date  Exchange rate   Lag1   Lag2   Lag3   Lag4   Lag5   Lag6   Lag7  \\\n",
      "7  1996-10-18          42.45  42.45  42.45  42.45  42.45  42.45  42.45  42.45   \n",
      "8  1996-10-21          42.45  42.45  42.45  42.45  42.45  42.45  42.45  42.45   \n",
      "9  1996-10-22          42.45  42.45  42.45  42.45  42.45  42.45  42.45  42.45   \n",
      "10 1996-10-23          42.45  42.45  42.45  42.45  42.45  42.45  42.45  42.45   \n",
      "11 1996-10-24          42.45  42.45  42.45  42.45  42.45  42.45  42.45  42.45   \n",
      "\n",
      "    Day_of_Week  Month  Year  \n",
      "7            18     10  1996  \n",
      "8            21     10  1996  \n",
      "9            22     10  1996  \n",
      "10           23     10  1996  \n",
      "11           24     10  1996  \n",
      "     Lag1   Lag2   Lag3   Lag4   Lag5   Lag6   Lag7  Day_of_Week  Month\n",
      "7   42.45  42.45  42.45  42.45  42.45  42.45  42.45           18     10\n",
      "8   42.45  42.45  42.45  42.45  42.45  42.45  42.45           21     10\n",
      "9   42.45  42.45  42.45  42.45  42.45  42.45  42.45           22     10\n",
      "10  42.45  42.45  42.45  42.45  42.45  42.45  42.45           23     10\n",
      "11  42.45  42.45  42.45  42.45  42.45  42.45  42.45           24     10\n",
      "7     42.45\n",
      "8     42.45\n",
      "9     42.45\n",
      "10    42.45\n",
      "11    42.45\n",
      "Name: Exchange rate, dtype: float64\n"
     ]
    }
   ],
   "source": [
    "sheet_name='Sheet3'\n",
    "data= pd.read_excel(\"F:/Thesis/Nazmul sir/DATA/bangladesh-inflation-rate-cpi.xlsx\", sheet_name=sheet_name)\n",
    "\"\"\" print(data.head())\n",
    "plt.plot(data['Year'],data['Exchange rate'],'o-')\n",
    "plt.show() \"\"\"\n",
    "\n",
    "for i in range(1,8):\n",
    "    data[f'Lag{i}']=data['Exchange rate'].shift(i)\n",
    "data.dropna(inplace=True)\n",
    "data['Day_of_Week'] = data['Date'].dt.day\n",
    "data['Month'] = data['Date'].dt.month\n",
    "data['Year'] = data['Date'].dt.year\n",
    "print(data.head()) \n",
    "\n",
    "x=data.drop(columns=['Year','Exchange rate','Date'])\n",
    "y=data['Exchange rate']\n",
    "print(x.head())\n",
    "print(y.head())\n",
    "val_rmse_list=[]"
   ]
  },
  {
   "cell_type": "code",
   "execution_count": 3,
   "metadata": {},
   "outputs": [],
   "source": [
    "x_train,x_test,y_train,y_test=train_test_split(x,y,train_size=.8,random_state=42)\n"
   ]
  },
  {
   "cell_type": "code",
   "execution_count": 4,
   "metadata": {},
   "outputs": [],
   "source": [
    "kf= KFold(n_splits=100,shuffle=True,random_state=42)\n",
    "for train_index, val_index in kf.split(x_train):\n",
    "    X_train_cv, X_val = x_train.iloc[train_index], x_train.iloc[val_index]\n",
    "    y_train_cv, y_val = y_train.iloc[train_index], y_train.iloc[val_index]\n",
    "\n",
    "    # Create and train the SVM model with a linear kernel\n",
    "    svm_model = SVR(kernel='linear')\n",
    "    svm_model.fit(X_train_cv, y_train_cv)\n",
    "\n",
    "    # Make predictions on the validation set\n",
    "    y_pred_val = svm_model.predict(X_val)\n",
    "\n",
    "    # Calculate validation RMSE\n",
    "    val_rmse = np.sqrt(mean_squared_error(y_val, y_pred_val))\n",
    "    val_rmse_list.append(val_rmse)\n",
    "\n",
    "# Calculate average validation RMSE\n",
    "mean_rmse = np.mean(val_rmse_list)\n",
    "\n",
    "print (f\"average validation rmse is {mean_rmse}\")\n",
    "print(f\"R-squared score: {r2_score(y_val, y_pred_val)}\")"
   ]
  },
  {
   "cell_type": "code",
   "execution_count": null,
   "metadata": {},
   "outputs": [
    {
     "name": "stdout",
     "output_type": "stream",
     "text": [
      "Final model RMSE is: 0.35864916724964346\n"
     ]
    }
   ],
   "source": [
    "Final_model=SVR(kernel='linear')\n",
    "Final_model.fit(x_train,y_train)\n",
    "Prediction=Final_model.predict(x_test)\n",
    "RMSE=mean_squared_error(Prediction,y_test,squared=False)\n",
    "print(f\"Final model RMSE is: {RMSE}\")\n"
   ]
  },
  {
   "cell_type": "code",
   "execution_count": null,
   "metadata": {},
   "outputs": [
    {
     "data": {
      "text/plain": [
       "\" y_numeric = pd.to_numeric(y, errors='coerce')\\n\\nimport matplotlib.pyplot as plt\\n\\n# Make predictions on the entire dataset\\ny_pred = svm_model.predict(x)\\n\\n# Plot predicted vs. actual values using y_numeric\\nplt.figure(figsize=(8, 6))\\nplt.scatter(y_numeric, y_pred, color='blue', alpha=0.5)\\nplt.plot([y_numeric.min(), y_numeric.max()], [y_numeric.min(), y_numeric.max()], color='red', linestyle='--', lw=2)\\nplt.title('Predicted vs. Actual Values')\\nplt.xlabel('Actual Values')\\nplt.ylabel('Predicted Values')\\nplt.grid(True)\\nplt.show() \""
      ]
     },
     "execution_count": 6,
     "metadata": {},
     "output_type": "execute_result"
    }
   ],
   "source": [
    "\"\"\" y_numeric = pd.to_numeric(y, errors='coerce')\n",
    "\n",
    "import matplotlib.pyplot as plt\n",
    "\n",
    "# Make predictions on the entire dataset\n",
    "y_pred = svm_model.predict(x)\n",
    "\n",
    "# Plot predicted vs. actual values using y_numeric\n",
    "plt.figure(figsize=(8, 6))\n",
    "plt.scatter(y_numeric, y_pred, color='blue', alpha=0.5)\n",
    "plt.plot([y_numeric.min(), y_numeric.max()], [y_numeric.min(), y_numeric.max()], color='red', linestyle='--', lw=2)\n",
    "plt.title('Predicted vs. Actual Values')\n",
    "plt.xlabel('Actual Values')\n",
    "plt.ylabel('Predicted Values')\n",
    "plt.grid(True)\n",
    "plt.show() \"\"\""
   ]
  }
 ],
 "metadata": {
  "kernelspec": {
   "display_name": "Python 3",
   "language": "python",
   "name": "python3"
  },
  "language_info": {
   "codemirror_mode": {
    "name": "ipython",
    "version": 3
   },
   "file_extension": ".py",
   "mimetype": "text/x-python",
   "name": "python",
   "nbconvert_exporter": "python",
   "pygments_lexer": "ipython3",
   "version": "3.10.0"
  }
 },
 "nbformat": 4,
 "nbformat_minor": 2
}
