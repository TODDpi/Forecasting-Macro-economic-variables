{
 "cells": [
  {
   "cell_type": "code",
   "execution_count": 9,
   "metadata": {},
   "outputs": [],
   "source": [
    "import pandas as pd\n",
    "from sklearn.model_selection import KFold,train_test_split\n",
    "from sklearn.metrics import mean_squared_error,r2_score\n",
    "from sklearn.ensemble import RandomForestRegressor\n",
    "import numpy as np\n",
    "import matplotlib.pyplot as plt\n",
    "from sklearn.model_selection import GridSearchCV\n"
   ]
  },
  {
   "cell_type": "code",
   "execution_count": 10,
   "metadata": {},
   "outputs": [
    {
     "name": "stdout",
     "output_type": "stream",
     "text": [
      "        Date  Exchange rate\n",
      "0 1996-10-09          42.45\n",
      "1 1996-10-10          42.45\n",
      "2 1996-10-11          42.45\n",
      "3 1996-10-14          42.45\n",
      "4 1996-10-15          42.45\n"
     ]
    },
    {
     "data": {
      "text/plain": [
       "\" plt.plot(data['Year'],data['Exchange rate'],'o-')\\nplt.show() \""
      ]
     },
     "execution_count": 10,
     "metadata": {},
     "output_type": "execute_result"
    }
   ],
   "source": [
    "sheet_name='Sheet3'\n",
    "data= pd.read_excel(\"F:/Thesis/Nazmul sir/DATA/bangladesh-inflation-rate-cpi.xlsx\", sheet_name=sheet_name)\n",
    "print(data.head())\n",
    "\"\"\" plt.plot(data['Year'],data['Exchange rate'],'o-')\n",
    "plt.show() \"\"\""
   ]
  },
  {
   "cell_type": "code",
   "execution_count": 11,
   "metadata": {},
   "outputs": [
    {
     "name": "stdout",
     "output_type": "stream",
     "text": [
      "         Date  Exchange rate   Lag1   Lag2   Lag3   Lag4   Lag5   Lag6   Lag7  \\\n",
      "7  1996-10-18          42.45  42.45  42.45  42.45  42.45  42.45  42.45  42.45   \n",
      "8  1996-10-21          42.45  42.45  42.45  42.45  42.45  42.45  42.45  42.45   \n",
      "9  1996-10-22          42.45  42.45  42.45  42.45  42.45  42.45  42.45  42.45   \n",
      "10 1996-10-23          42.45  42.45  42.45  42.45  42.45  42.45  42.45  42.45   \n",
      "11 1996-10-24          42.45  42.45  42.45  42.45  42.45  42.45  42.45  42.45   \n",
      "\n",
      "    Day_of_Week  Month  Year  \n",
      "7            18     10  1996  \n",
      "8            21     10  1996  \n",
      "9            22     10  1996  \n",
      "10           23     10  1996  \n",
      "11           24     10  1996  \n"
     ]
    }
   ],
   "source": [
    "for i in range(1,8):\n",
    "    data[f'Lag{i}']=data['Exchange rate'].shift(i)\n",
    "data.dropna(inplace=True)\n",
    "data['Day_of_Week'] = data['Date'].dt.day\n",
    "data['Month'] = data['Date'].dt.month\n",
    "data['Year'] = data['Date'].dt.year\n",
    "print(data.head())"
   ]
  },
  {
   "cell_type": "code",
   "execution_count": 12,
   "metadata": {},
   "outputs": [
    {
     "name": "stdout",
     "output_type": "stream",
     "text": [
      "     Lag1   Lag2   Lag3   Lag4   Lag5   Lag6   Lag7  Day_of_Week  Month\n",
      "7   42.45  42.45  42.45  42.45  42.45  42.45  42.45           18     10\n",
      "8   42.45  42.45  42.45  42.45  42.45  42.45  42.45           21     10\n",
      "9   42.45  42.45  42.45  42.45  42.45  42.45  42.45           22     10\n",
      "10  42.45  42.45  42.45  42.45  42.45  42.45  42.45           23     10\n",
      "11  42.45  42.45  42.45  42.45  42.45  42.45  42.45           24     10\n",
      "7     42.45\n",
      "8     42.45\n",
      "9     42.45\n",
      "10    42.45\n",
      "11    42.45\n",
      "Name: Exchange rate, dtype: float64\n",
      "float64\n"
     ]
    }
   ],
   "source": [
    "x=data.drop(columns=['Date','Exchange rate','Year'])\n",
    "y=data['Exchange rate']\n",
    "print(x.head())\n",
    "print(y.head())\n",
    "print(y.dtype)\n",
    "\n"
   ]
  },
  {
   "cell_type": "code",
   "execution_count": 13,
   "metadata": {},
   "outputs": [
    {
     "name": "stdout",
     "output_type": "stream",
     "text": [
      "Average model RMSE: 0.2834155874746977\n",
      "Validation RMSE for each fold: [0.4995621569622701, 0.3354811494424842, 0.25756074105830984, 0.17778369267698851, 0.16729028041925686, 0.16445653182135242, 0.1432811121478327, 0.28987996553662143, 0.20409769394013022, 0.9601229037356692, 0.3646511660870282, 0.29228231329962046, 0.23925204638386566, 0.2768551840722961, 0.4266077019254967, 0.3015431576638636, 0.34286167358448505, 0.19231506117653413, 0.2608171925975863, 0.22322867002096497, 0.1976682405106213, 0.1736532404859691, 0.25337670579292293, 0.22633250235660582, 0.1309535260406707, 0.18887909228003194, 0.3963014845205024, 0.24915505162914087, 0.1697808144818908, 0.36694854744791183, 0.3733216867010993, 0.17894097687853924, 0.17179805406061957, 0.35194824594515667, 0.3286367804883639, 0.4366710351359646, 0.28210456160808595, 0.11007709430412506, 0.25251212910674503, 0.13907446087549843, 0.3328036575803073, 0.5824722669817255, 0.2562501565011648, 0.19437328375487636, 0.2256965852425174, 0.1074640870947523, 0.5284292883921662, 0.26493349924094195, 0.3821166624024007, 0.3054820521523018, 0.3870291658046855, 0.6090141935044915, 0.47691108035608776, 0.270351988053324, 0.5222477018757822, 0.3732737997850101, 0.23046582181865252, 0.174683360376139, 0.18552708885449615, 0.2187899081696117, 0.4060936151953641, 0.1433459185881642, 0.16495697838495077, 0.39778446199847944, 0.18056313239526708, 0.21175733516419587, 0.14212030041475887, 0.1669891959607843, 0.2542597078726631, 0.27948672504207667, 0.13909594126294814, 0.20625376942144655, 0.20625555137981275, 0.11629595513342174, 0.6495421160445279, 0.17170249067304144, 0.10224749034226654, 0.4071005450074425, 0.34806872236345604, 0.223820282607034, 0.20577721795170642, 0.12288410333617573, 0.29328751428310146, 0.4228092690423309, 0.2501736482393828, 0.1428943281370394, 0.14621715605411453, 0.1549382638586824, 0.24381845288235865, 0.5081243708818013, 0.31015776481860696, 0.2527166469560435, 0.5018291093223005, 0.21422372056470068, 0.5909506252443555, 0.44655840420764614, 0.2347352114154455, 0.22983206978595289, 0.1752022464499701, 0.2503081156413941]\n",
      "{'max_depth': 10, 'min_samples_leaf': 4, 'min_samples_split': 2, 'n_estimators': 50}\n",
      "Average r2 score is 0.9995656898441565\n"
     ]
    }
   ],
   "source": [
    "from sklearn.model_selection import GridSearchCV, KFold\n",
    "from sklearn.ensemble import RandomForestRegressor\n",
    "from sklearn.metrics import mean_squared_error\n",
    "import numpy as np\n",
    "\n",
    "# Define the parameter grid for GridSearchCV\n",
    "param_grid = {\n",
    "    'n_estimators': [50, 100, 150],\n",
    "    'max_depth': [None, 10, 20],\n",
    "    'min_samples_split': [2, 5, 10],\n",
    "    'min_samples_leaf': [1, 2, 4]\n",
    "}\n",
    "\n",
    "# Perform GridSearchCV\n",
    "grid_search = GridSearchCV(estimator=RandomForestRegressor(random_state=42),\n",
    "                           param_grid=param_grid,\n",
    "                           cv=5,\n",
    "                           scoring='neg_mean_squared_error',\n",
    "                           n_jobs=-1)\n",
    "grid_search.fit(x, y)\n",
    "\n",
    "# Get the best hyperparameters\n",
    "best_params = grid_search.best_params_\n",
    "\n",
    "# Initialize list to store validation RMSE\n",
    "val_rmse_list = []\n",
    "val_r2=[]\n",
    "\n",
    "# Initialize KFold\n",
    "kf = KFold(n_splits=100, shuffle=True, random_state=42)\n",
    "\n",
    "x_train,x_test,y_train,y_test= train_test_split(x,y,train_size=.8,random_state=42)\n",
    "\n",
    "# Perform k-fold cross-validation\n",
    "for train_index, val_index in kf.split(x_train):\n",
    "    x_train_fold, x_val_fold = x_train.iloc[train_index], x_train.iloc[val_index]\n",
    "    y_train_fold, y_val_fold = y_train.iloc[train_index], y_train.iloc[val_index]\n",
    "\n",
    "    # Create and train RandomForestRegressor with best hyperparameters\n",
    "    rf_model = RandomForestRegressor(**best_params, random_state=42)\n",
    "    rf_model.fit(x_train_fold, y_train_fold)\n",
    "    \n",
    "    # Make predictions on validation set\n",
    "    y_pred_val = rf_model.predict(x_val_fold)\n",
    "\n",
    "    # Calculate validation RMSE\n",
    "    val_rmse = mean_squared_error(y_val_fold, y_pred_val, squared=False)\n",
    "    val_rmse_list.append(val_rmse)\n",
    "    r2=r2_score(y_val_fold,y_pred_val)\n",
    "    val_r2.append(r2)\n",
    "\n",
    "# Calculate average model RMSE\n",
    "mean_rmse = np.mean(val_rmse_list)\n",
    "\n",
    "# Print results\n",
    "print(\"Average model RMSE:\", mean_rmse)\n",
    "print(\"Validation RMSE for each fold:\", val_rmse_list)\n",
    "print (best_params)\n",
    "print(f\"Average r2 score is {np.mean(val_r2)}\")\n"
   ]
  },
  {
   "cell_type": "code",
   "execution_count": 14,
   "metadata": {},
   "outputs": [
    {
     "name": "stdout",
     "output_type": "stream",
     "text": [
      "Model RMSE value is: 0.2992510825344234\n"
     ]
    }
   ],
   "source": [
    "Final_model=RandomForestRegressor(max_depth=10,min_samples_leaf=4,min_samples_split=2,n_estimators=50,random_state=42)\n",
    "Final_model.fit(x_train,y_train)\n",
    "Prediction=Final_model.predict(x_test)\n",
    "RMSE=mean_squared_error(Prediction,y_test,squared=False)\n",
    "print(f'Model RMSE value is: {RMSE}')"
   ]
  },
  {
   "cell_type": "code",
   "execution_count": 15,
   "metadata": {},
   "outputs": [
    {
     "data": {
      "text/plain": [
       "\" y_numeric = pd.to_numeric(y, errors='coerce')\\n\\nimport matplotlib.pyplot as plt\\n\\n# Make predictions on the entire dataset\\ny_pred = rf_model.predict(x)\\n\\n# Plot predicted vs. actual values using y_numeric\\nplt.figure(figsize=(8, 6))\\nplt.scatter(y_numeric, y_pred, color='blue', alpha=0.5)\\nplt.plot([y_numeric.min(), y_numeric.max()], [y_numeric.min(), y_numeric.max()], color='red', linestyle='--', lw=2)\\nplt.title('Predicted vs. Actual Values')\\nplt.xlabel('Actual Values')\\nplt.ylabel('Predicted Values')\\nplt.grid(True)\\nplt.show()\\n \""
      ]
     },
     "execution_count": 15,
     "metadata": {},
     "output_type": "execute_result"
    }
   ],
   "source": [
    "\"\"\" y_numeric = pd.to_numeric(y, errors='coerce')\n",
    "\n",
    "import matplotlib.pyplot as plt\n",
    "\n",
    "# Make predictions on the entire dataset\n",
    "y_pred = rf_model.predict(x)\n",
    "\n",
    "# Plot predicted vs. actual values using y_numeric\n",
    "plt.figure(figsize=(8, 6))\n",
    "plt.scatter(y_numeric, y_pred, color='blue', alpha=0.5)\n",
    "plt.plot([y_numeric.min(), y_numeric.max()], [y_numeric.min(), y_numeric.max()], color='red', linestyle='--', lw=2)\n",
    "plt.title('Predicted vs. Actual Values')\n",
    "plt.xlabel('Actual Values')\n",
    "plt.ylabel('Predicted Values')\n",
    "plt.grid(True)\n",
    "plt.show()\n",
    " \"\"\""
   ]
  }
 ],
 "metadata": {
  "kernelspec": {
   "display_name": "Python 3",
   "language": "python",
   "name": "python3"
  },
  "language_info": {
   "codemirror_mode": {
    "name": "ipython",
    "version": 3
   },
   "file_extension": ".py",
   "mimetype": "text/x-python",
   "name": "python",
   "nbconvert_exporter": "python",
   "pygments_lexer": "ipython3",
   "version": "3.10.0"
  }
 },
 "nbformat": 4,
 "nbformat_minor": 2
}
