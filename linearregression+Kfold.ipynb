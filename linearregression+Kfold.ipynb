{
 "cells": [
  {
   "cell_type": "code",
   "execution_count": 1,
   "metadata": {},
   "outputs": [],
   "source": [
    "import pandas as pd\n",
    "from sklearn.model_selection import train_test_split\n",
    "from sklearn.linear_model import LinearRegression\n",
    "from sklearn.metrics import mean_squared_error,r2_score\n",
    "import matplotlib.pyplot as plt\n",
    "from sklearn.model_selection import KFold\n",
    "import numpy as np"
   ]
  },
  {
   "cell_type": "markdown",
   "metadata": {},
   "source": [
    "Step 1: Read data out of the excel file."
   ]
  },
  {
   "cell_type": "code",
   "execution_count": 2,
   "metadata": {},
   "outputs": [
    {
     "name": "stdout",
     "output_type": "stream",
     "text": [
      "        Date  Exchange rate\n",
      "0 1996-10-09          42.45\n",
      "1 1996-10-10          42.45\n",
      "2 1996-10-11          42.45\n",
      "3 1996-10-14          42.45\n",
      "4 1996-10-15          42.45\n"
     ]
    },
    {
     "data": {
      "image/png": "[encoded data removed]",
      "text/plain": [
       "<Figure size 640x480 with 1 Axes>"
      ]
     },
     "metadata": {},
     "output_type": "display_data"
    }
   ],
   "source": [
    "\n",
    "sheet_name='Sheet3'\n",
    "data= pd.read_excel(\"F:/Thesis/Nazmul sir/DATA/bangladesh-inflation-rate-cpi.xlsx\", sheet_name=sheet_name)\n",
    "print(data.head())\n",
    "plt.plot(data['Date'],data['Exchange rate'],'o-')\n",
    "plt.show()\n"
   ]
  },
  {
   "cell_type": "markdown",
   "metadata": {},
   "source": [
    "step 2: Data preparation"
   ]
  },
  {
   "cell_type": "markdown",
   "metadata": {},
   "source": [
    "testing with lagged values"
   ]
  },
  {
   "cell_type": "code",
   "execution_count": 3,
   "metadata": {},
   "outputs": [
    {
     "name": "stdout",
     "output_type": "stream",
     "text": [
      "         Date  Exchange rate   Lag1   Lag2   Lag3   Lag4   Lag5   Lag6   Lag7  \\\n",
      "7  1996-10-18          42.45  42.45  42.45  42.45  42.45  42.45  42.45  42.45   \n",
      "8  1996-10-21          42.45  42.45  42.45  42.45  42.45  42.45  42.45  42.45   \n",
      "9  1996-10-22          42.45  42.45  42.45  42.45  42.45  42.45  42.45  42.45   \n",
      "10 1996-10-23          42.45  42.45  42.45  42.45  42.45  42.45  42.45  42.45   \n",
      "11 1996-10-24          42.45  42.45  42.45  42.45  42.45  42.45  42.45  42.45   \n",
      "\n",
      "    Day_of_Week  Month  Year  \n",
      "7            18     10  1996  \n",
      "8            21     10  1996  \n",
      "9            22     10  1996  \n",
      "10           23     10  1996  \n",
      "11           24     10  1996  \n"
     ]
    }
   ],
   "source": [
    "for i in range (1,8):\n",
    "    data[f'Lag{i}']=data['Exchange rate'].shift(i)\n",
    "data.dropna(inplace=True)\n",
    "data['Day_of_Week'] = data['Date'].dt.day\n",
    "data['Month'] = data['Date'].dt.month\n",
    "data['Year'] = data['Date'].dt.year\n",
    "print(data.head())"
   ]
  },
  {
   "cell_type": "markdown",
   "metadata": {},
   "source": [
    "test train split"
   ]
  },
  {
   "cell_type": "code",
   "execution_count": 4,
   "metadata": {},
   "outputs": [
    {
     "name": "stdout",
     "output_type": "stream",
     "text": [
      "average model rmse on 10 fold is 0.27364519643279034\n",
      "average model r2 score is 0.9995879740629706\n",
      "final model rmse is 0.2462362094487382\n"
     ]
    }
   ],
   "source": [
    "\n",
    "\n",
    "x=data.drop(columns=['Date','Exchange rate','Year'])\n",
    "y=data['Exchange rate']\n",
    "\n",
    "x_train,x_test,y_train,y_test=train_test_split(x,y,train_size=.8,random_state=42)\n",
    "\n",
    "val_rmse=[]\n",
    "val_r2=[]\n",
    "kf=KFold(n_splits=100,shuffle=True,random_state=42)\n",
    "for train_index, val_index in kf.split(x_train):\n",
    "    x_train_cv,y_train_cv=x_train.iloc[train_index],y_train.iloc[train_index]\n",
    "    x_val, y_val= x_train.iloc[val_index],y_train.iloc[val_index]\n",
    "    \n",
    "  \n",
    "    model=LinearRegression()\n",
    "    model.fit(x_train_cv, y_train_cv)\n",
    "    y_pred = model.predict(x_val)\n",
    "    rmse=mean_squared_error(y_pred,y_val,squared=False)\n",
    "    val_rmse.append(rmse)\n",
    "    r2=r2_score(y_val,y_pred)\n",
    "    val_r2.append(r2)\n",
    "\n",
    "print(f\"average model rmse on 10 fold is {np.mean(val_rmse)}\")\n",
    "print(f\"average model r2 score is {np.mean(val_r2)}\")\n",
    "\n",
    "final_model=LinearRegression()\n",
    "final_model.fit(x_train,y_train)\n",
    "prediction=final_model.predict(x_test)\n",
    "RMSE=mean_squared_error(prediction,y_test,squared=False)\n",
    "print (f'final model rmse is {RMSE}')"
   ]
  }
 ],
 "metadata": {
  "kernelspec": {
   "display_name": "Python 3",
   "language": "python",
   "name": "python3"
  },
  "language_info": {
   "codemirror_mode": {
    "name": "ipython",
    "version": 3
   },
   "file_extension": ".py",
   "mimetype": "text/x-python",
   "name": "python",
   "nbconvert_exporter": "python",
   "pygments_lexer": "ipython3",
   "version": "3.10.0"
  }
 },
 "nbformat": 4,
 "nbformat_minor": 2
}
