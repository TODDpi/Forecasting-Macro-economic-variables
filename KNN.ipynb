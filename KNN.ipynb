{
 "cells": [
  {
   "cell_type": "code",
   "execution_count": 1,
   "metadata": {},
   "outputs": [],
   "source": [
    "\n",
    "from sklearn.model_selection import KFold,train_test_split\n",
    "from sklearn.metrics import mean_squared_error, r2_score\n",
    "import numpy as np\n",
    "import pandas as pd\n",
    "from sklearn.neighbors import KNeighborsRegressor\n"
   ]
  },
  {
   "cell_type": "code",
   "execution_count": 2,
   "metadata": {},
   "outputs": [
    {
     "name": "stdout",
     "output_type": "stream",
     "text": [
      "    Day_of_Week  Month   Lag1   Lag2   Lag3   Lag4   Lag5   Lag6   Lag7\n",
      "7            18     10  42.45  42.45  42.45  42.45  42.45  42.45  42.45\n",
      "8            21     10  42.45  42.45  42.45  42.45  42.45  42.45  42.45\n",
      "9            22     10  42.45  42.45  42.45  42.45  42.45  42.45  42.45\n",
      "10           23     10  42.45  42.45  42.45  42.45  42.45  42.45  42.45\n",
      "11           24     10  42.45  42.45  42.45  42.45  42.45  42.45  42.45\n",
      "7     42.45\n",
      "8     42.45\n",
      "9     42.45\n",
      "10    42.45\n",
      "11    42.45\n",
      "Name: Exchange rate, dtype: float64\n"
     ]
    }
   ],
   "source": [
    "sheet_name='Sheet3'\n",
    "data= pd.read_excel(\"F:/Thesis/Nazmul sir/DATA/bangladesh-inflation-rate-cpi.xlsx\", sheet_name=sheet_name)\n",
    "data['Day_of_Week'] = data['Date'].dt.day\n",
    "data['Month'] = data['Date'].dt.month\n",
    "data['Year'] = data['Date'].dt.year\n",
    "\"\"\" print(data.head())\n",
    "plt.plot(data['Year'],data['Exchange rate'],'o-')\n",
    "plt.show() \"\"\"\n",
    "\n",
    "for i in range(1,8):\n",
    "    data[f'Lag{i}']=data['Exchange rate'].shift(i)\n",
    "data.dropna(inplace=True)\n",
    "\n",
    "\"\"\" print(data.head()) \"\"\"\n",
    "\n",
    "x=data.drop(columns=['Date','Exchange rate','Year'])\n",
    "y=data['Exchange rate']\n",
    "\n",
    "print(x.head())\n",
    "print(y.head())\n",
    "val_rmse=[]\n",
    "val_r2=[]\n"
   ]
  },
  {
   "cell_type": "code",
   "execution_count": 3,
   "metadata": {},
   "outputs": [
    {
     "name": "stdout",
     "output_type": "stream",
     "text": [
      "Average RMSE across 100-fold cross-validation with k=1: 0.3606882056810929\n",
      "Average R-squared score across 100-fold cross-validation with k=1: 0.9993225515760196\n",
      "Average RMSE across 100-fold cross-validation with k=2: 0.343769622961903\n",
      "Average R-squared score across 100-fold cross-validation with k=2: 0.9993915584677339\n"
     ]
    },
    {
     "name": "stdout",
     "output_type": "stream",
     "text": [
      "Average RMSE across 100-fold cross-validation with k=3: 0.33825918369781005\n",
      "Average R-squared score across 100-fold cross-validation with k=3: 0.9994170676589853\n",
      "Average RMSE across 100-fold cross-validation with k=4: 0.33755617802220683\n",
      "Average R-squared score across 100-fold cross-validation with k=4: 0.9994238282329845\n",
      "Average RMSE across 100-fold cross-validation with k=5: 0.33868465787852414\n",
      "Average R-squared score across 100-fold cross-validation with k=5: 0.9994218930966771\n"
     ]
    }
   ],
   "source": [
    "x_train,x_test,y_train,y_test= train_test_split(x,y,train_size=.8,random_state=42)\n",
    "kf= KFold(n_splits=100,shuffle=True,random_state=42)\n",
    "for i in range (1,6):\n",
    "    for train_index, val_index in kf.split(x_train):\n",
    "        X_train_cv, y_train_cv = x_train.iloc[train_index], y_train.iloc[train_index]\n",
    "        X_val, y_val = x_train.iloc[val_index], y_train.iloc[val_index]\n",
    "         # Debugging: Check data types of X_val\n",
    "        X_val = X_val.apply(pd.to_numeric)\n",
    "        \n",
    "        # Initialize KNN model\n",
    "        knn_model = KNeighborsRegressor(n_neighbors=i)  # You can change the value of 'n_neighbors' as needed\n",
    "        \n",
    "        # Fit the model on the training data\n",
    "        knn_model.fit(X_train_cv, y_train_cv)\n",
    "        \n",
    "        # Make predictions on the validation data\n",
    "        y_pred_val = knn_model.predict(X_val)\n",
    "        \n",
    "        # Calculate evaluation metrics\n",
    "        val_rmse.append(np.sqrt(mean_squared_error(y_val, y_pred_val)))\n",
    "        val_r2.append(r2_score(y_val, y_pred_val))\n",
    "        \n",
    "    # Calculate average evaluation metrics\n",
    "    mean_rmse = np.mean(val_rmse)\n",
    "    mean_r2 = np.mean(val_r2)\n",
    "\n",
    "    print(f\"Average RMSE across 100-fold cross-validation with k={i}: {mean_rmse}\")\n",
    "    print(f\"Average R-squared score across 100-fold cross-validation with k={i}: {mean_r2}\")\n"
   ]
  },
  {
   "cell_type": "code",
   "execution_count": 4,
   "metadata": {},
   "outputs": [
    {
     "name": "stdout",
     "output_type": "stream",
     "text": [
      "Fianl model RMSE for k=1 is: 0.3552014461800811\n",
      "Fianl model RMSE for k=2 is: 0.30777126645634156\n",
      "Fianl model RMSE for k=3 is: 0.3131459164515057\n",
      "Fianl model RMSE for k=4 is: 0.3143288515010433\n",
      "Fianl model RMSE for k=5 is: 0.3228802839791497\n"
     ]
    }
   ],
   "source": [
    "for i in range(1,6):\n",
    "    Final_model=KNeighborsRegressor(n_neighbors=i)\n",
    "    Final_model.fit(x_train,y_train)\n",
    "    prediction=Final_model.predict(x_test)\n",
    "    RMSE=mean_squared_error(prediction,y_test,squared=False)\n",
    "    print(f\"Fianl model RMSE for k={i} is: {RMSE}\")"
   ]
  }
 ],
 "metadata": {
  "kernelspec": {
   "display_name": "Python 3",
   "language": "python",
   "name": "python3"
  },
  "language_info": {
   "codemirror_mode": {
    "name": "ipython",
    "version": 3
   },
   "file_extension": ".py",
   "mimetype": "text/x-python",
   "name": "python",
   "nbconvert_exporter": "python",
   "pygments_lexer": "ipython3",
   "version": "3.10.0"
  }
 },
 "nbformat": 4,
 "nbformat_minor": 2
}
