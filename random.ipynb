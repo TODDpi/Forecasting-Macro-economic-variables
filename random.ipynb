{
 "cells": [
  {
   "cell_type": "code",
   "execution_count": 8,
   "metadata": {},
   "outputs": [
    {
     "name": "stdout",
     "output_type": "stream",
     "text": [
      "RMSE of the NN(8, 7, 7) on test data: 0.28443132682571787\n",
      "RMSE of the NN(8, 7, 9) on test data: 0.28793806085672313\n"
     ]
    }
   ],
   "source": [
    "# Open the text file\n",
    "with open(r\"F:\\Thesis\\Nazmul sir\\Lit review\\triple layer data.txt\", 'r') as file:\n",
    "    # Read lines from the file\n",
    "    lines = file.readlines()\n",
    "\n",
    "# Initialize a list to store rows with values less than 10\n",
    "filtered_rows = []\n",
    "\n",
    "# Iterate over each line\n",
    "for line in lines:\n",
    "    # Split the line by whitespace and get the last element (the numerical value)\n",
    "    value = float(line.split()[-1])\n",
    "    # Check if the value is less than 10\n",
    "    if value < .3:\n",
    "        # If so, append the entire line to the filtered_rows list\n",
    "        filtered_rows.append(line.strip())\n",
    "\n",
    "# Print the filtered rows\n",
    "for row in filtered_rows:\n",
    "    print(row)\n"
   ]
  },
  {
   "cell_type": "markdown",
   "metadata": {},
   "source": [
    "Descriptive analysis of the data:"
   ]
  },
  {
   "cell_type": "code",
   "execution_count": 6,
   "metadata": {},
   "outputs": [],
   "source": [
    "import pandas as pd\n",
    "import numpy as np\n",
    "from docx import Document\n",
    "\n",
    "# Step 1: Load Data\n",
    "sheet_name='Sheet3'\n",
    "df = pd.read_excel(r\"F:\\Thesis\\Nazmul sir\\DATA\\bangladesh-inflation-rate-cpi.xlsx\",sheet_name=sheet_name)\n",
    "\n",
    "# Step 2: Statistical Analysis\n",
    "statistics = {\n",
    "    'Sample Size': len(df),\n",
    "    'Mean Exchange Rate': np.mean(df['Exchange rate']),\n",
    "    'Median Exchange Rate': np.median(df['Exchange rate']),\n",
    "    'Mode Exchange Rate': df['Exchange rate'].mode()[0],  # Mode can have multiple values, we choose the first one\n",
    "    'Standard Deviation Exchange Rate': np.std(df['Exchange rate']),\n",
    "    'Minimum Exchange Rate': np.min(df['Exchange rate']),\n",
    "    'Maximum Exchange Rate': np.max(df['Exchange rate']),\n",
    "    # Add more statistics as needed\n",
    "}\n",
    "\n",
    "# Step 3: Create Word Document\n",
    "doc = Document()\n",
    "\n",
    "# Step 4: Write Statistics to Document\n",
    "doc.add_heading('Statistical Analysis of Daily Exchange Rate', level=1)\n",
    "table = doc.add_table(rows=len(statistics)+1, cols=2)\n",
    "hdr_cells = table.rows[0].cells\n",
    "hdr_cells[0].text = 'Statistic'\n",
    "hdr_cells[1].text = 'Value'\n",
    "\n",
    "# Write statistics to table\n",
    "for i, (statistic, value) in enumerate(statistics.items(), start=1):\n",
    "    row_cells = table.rows[i].cells\n",
    "    row_cells[0].text = statistic\n",
    "    row_cells[1].text = str(value)\n",
    "\n",
    "# Save the document\n",
    "doc.save('exchange_rate_statistics.docx')"
   ]
  }
 ],
 "metadata": {
  "kernelspec": {
   "display_name": "Python 3",
   "language": "python",
   "name": "python3"
  },
  "language_info": {
   "codemirror_mode": {
    "name": "ipython",
    "version": 3
   },
   "file_extension": ".py",
   "mimetype": "text/x-python",
   "name": "python",
   "nbconvert_exporter": "python",
   "pygments_lexer": "ipython3",
   "version": "3.10.0"
  }
 },
 "nbformat": 4,
 "nbformat_minor": 2
}
