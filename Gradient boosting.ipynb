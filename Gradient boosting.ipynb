{
 "cells": [
  {
   "cell_type": "code",
   "execution_count": 11,
   "metadata": {},
   "outputs": [],
   "source": [
    "import pandas as pd\n",
    "from sklearn.model_selection import KFold, train_test_split\n",
    "from sklearn.metrics import mean_squared_error,r2_score\n",
    "from sklearn.ensemble import GradientBoostingRegressor\n",
    "import numpy as np\n",
    "import matplotlib.pyplot as plt\n",
    "from sklearn.model_selection import GridSearchCV\n"
   ]
  },
  {
   "cell_type": "code",
   "execution_count": 12,
   "metadata": {},
   "outputs": [
    {
     "name": "stdout",
     "output_type": "stream",
     "text": [
      "        Date  Exchange rate\n",
      "0 1996-10-09          42.45\n",
      "1 1996-10-10          42.45\n",
      "2 1996-10-11          42.45\n",
      "3 1996-10-14          42.45\n",
      "4 1996-10-15          42.45\n"
     ]
    },
    {
     "data": {
      "text/plain": [
       "\" plt.plot(data['Year'],data['Exchange rate'],'o-')\\nplt.show() \""
      ]
     },
     "execution_count": 12,
     "metadata": {},
     "output_type": "execute_result"
    }
   ],
   "source": [
    "sheet_name='Sheet3'\n",
    "data= pd.read_excel(\"F:/Thesis/Nazmul sir/DATA/bangladesh-inflation-rate-cpi.xlsx\", sheet_name=sheet_name)\n",
    "print(data.head())\n",
    "\"\"\" plt.plot(data['Year'],data['Exchange rate'],'o-')\n",
    "plt.show() \"\"\""
   ]
  },
  {
   "cell_type": "code",
   "execution_count": 13,
   "metadata": {},
   "outputs": [
    {
     "name": "stdout",
     "output_type": "stream",
     "text": [
      "         Date  Exchange rate   Lag1   Lag2   Lag3   Lag4   Lag5   Lag6   Lag7  \\\n",
      "7  1996-10-18          42.45  42.45  42.45  42.45  42.45  42.45  42.45  42.45   \n",
      "8  1996-10-21          42.45  42.45  42.45  42.45  42.45  42.45  42.45  42.45   \n",
      "9  1996-10-22          42.45  42.45  42.45  42.45  42.45  42.45  42.45  42.45   \n",
      "10 1996-10-23          42.45  42.45  42.45  42.45  42.45  42.45  42.45  42.45   \n",
      "11 1996-10-24          42.45  42.45  42.45  42.45  42.45  42.45  42.45  42.45   \n",
      "\n",
      "    Day_of_Week  Month  Year  \n",
      "7            18     10  1996  \n",
      "8            21     10  1996  \n",
      "9            22     10  1996  \n",
      "10           23     10  1996  \n",
      "11           24     10  1996  \n"
     ]
    }
   ],
   "source": [
    "for i in range(1,8):\n",
    "    data[f'Lag{i}']=data['Exchange rate'].shift(i)\n",
    "data.dropna(inplace=True)\n",
    "data['Day_of_Week'] = data['Date'].dt.day\n",
    "data['Month'] = data['Date'].dt.month\n",
    "data['Year'] = data['Date'].dt.year\n",
    "print(data.head())"
   ]
  },
  {
   "cell_type": "code",
   "execution_count": 14,
   "metadata": {},
   "outputs": [
    {
     "name": "stdout",
     "output_type": "stream",
     "text": [
      "     Lag1   Lag2   Lag3   Lag4   Lag5   Lag6   Lag7  Day_of_Week  Month\n",
      "7   42.45  42.45  42.45  42.45  42.45  42.45  42.45           18     10\n",
      "8   42.45  42.45  42.45  42.45  42.45  42.45  42.45           21     10\n",
      "9   42.45  42.45  42.45  42.45  42.45  42.45  42.45           22     10\n",
      "10  42.45  42.45  42.45  42.45  42.45  42.45  42.45           23     10\n",
      "11  42.45  42.45  42.45  42.45  42.45  42.45  42.45           24     10\n",
      "7     42.45\n",
      "8     42.45\n",
      "9     42.45\n",
      "10    42.45\n",
      "11    42.45\n",
      "Name: Exchange rate, dtype: float64\n",
      "float64\n"
     ]
    }
   ],
   "source": [
    "x=data.drop(columns=['Date','Exchange rate','Year'])\n",
    "y=data['Exchange rate']\n",
    "print(x.head())\n",
    "print(y.head())\n",
    "print(y.dtype)\n",
    "\n"
   ]
  },
  {
   "cell_type": "code",
   "execution_count": 15,
   "metadata": {},
   "outputs": [
    {
     "name": "stdout",
     "output_type": "stream",
     "text": [
      "Average model RMSE: 0.29796591488771546\n",
      "{'max_depth': None, 'min_samples_leaf': 4, 'min_samples_split': 2, 'n_estimators': 150}\n",
      "Average r2 score is 0.9995130401133255\n"
     ]
    }
   ],
   "source": [
    "from sklearn.model_selection import GridSearchCV, KFold\n",
    "from sklearn.ensemble import GradientBoostingRegressor\n",
    "from sklearn.metrics import mean_squared_error\n",
    "import numpy as np\n",
    "\n",
    "# Define the parameter grid for GridSearchCV\n",
    "param_grid = {\n",
    "    'n_estimators': [50, 100, 150],\n",
    "    'max_depth': [None, 10, 20],\n",
    "    'min_samples_split': [2, 5, 10],\n",
    "    'min_samples_leaf': [1, 2, 4]\n",
    "}\n",
    "\n",
    "# Perform GridSearchCV\n",
    "grid_search = GridSearchCV(estimator=GradientBoostingRegressor(random_state=42),\n",
    "                           param_grid=param_grid,\n",
    "                           cv=5,\n",
    "                           scoring='neg_mean_squared_error',\n",
    "                           n_jobs=-1)\n",
    "grid_search.fit(x, y)\n",
    "\n",
    "# Get the best hyperparameters\n",
    "best_params = grid_search.best_params_\n",
    "\n",
    "# Initialize list to store validation RMSE\n",
    "val_rmse_list = []\n",
    "val_r2=[]\n",
    "\n",
    "# Initialize KFold\n",
    "kf = KFold(n_splits=100, shuffle=True, random_state=42)\n",
    "x_train,x_test,y_train,y_test=train_test_split(x,y,train_size=.8,random_state=42)\n",
    "\n",
    "# Perform k-fold cross-validation\n",
    "for train_index, val_index in kf.split(x_train):\n",
    "    x_train_fold, x_val_fold = x_train.iloc[train_index], x_train.iloc[val_index]\n",
    "    y_train_fold, y_val_fold = y_train.iloc[train_index], y_train.iloc[val_index]\n",
    "\n",
    "    # Create and train RandomForestRegressor with best hyperparameters\n",
    "    gb_model = GradientBoostingRegressor(**best_params, random_state=42)\n",
    "    gb_model.fit(x_train_fold, y_train_fold)\n",
    "    \n",
    "    # Make predictions on validation set\n",
    "    y_pred_val = gb_model.predict(x_val_fold)\n",
    "\n",
    "    # Calculate validation RMSE\n",
    "    val_rmse = mean_squared_error(y_val_fold, y_pred_val, squared=False)\n",
    "    val_rmse_list.append(val_rmse)\n",
    "    r2=r2_score(y_val_fold,y_pred_val)\n",
    "    val_r2.append(r2)\n",
    "\n",
    "# Calculate average model RMSE\n",
    "mean_rmse = np.mean(val_rmse_list)\n",
    "\n",
    "# Print results\n",
    "print(\"Average model RMSE:\", mean_rmse)\n",
    "print (best_params)\n",
    "print(f\"Average r2 score is {np.mean(val_r2)}\")\n"
   ]
  },
  {
   "cell_type": "code",
   "execution_count": 16,
   "metadata": {},
   "outputs": [
    {
     "name": "stdout",
     "output_type": "stream",
     "text": [
      "Final model RMSE: 0.3196246868647156\n"
     ]
    }
   ],
   "source": [
    "Final_model= GradientBoostingRegressor(**best_params,random_state=42)\n",
    "Final_model.fit(x_train,y_train)\n",
    "Prediction=Final_model.predict(x_test)\n",
    "RMSE=mean_squared_error(Prediction,y_test,squared=False)\n",
    "print(f'Final model RMSE: {RMSE}')"
   ]
  }
 ],
 "metadata": {
  "kernelspec": {
   "display_name": "Python 3",
   "language": "python",
   "name": "python3"
  },
  "language_info": {
   "codemirror_mode": {
    "name": "ipython",
    "version": 3
   },
   "file_extension": ".py",
   "mimetype": "text/x-python",
   "name": "python",
   "nbconvert_exporter": "python",
   "pygments_lexer": "ipython3",
   "version": "3.10.0"
  }
 },
 "nbformat": 4,
 "nbformat_minor": 2
}
