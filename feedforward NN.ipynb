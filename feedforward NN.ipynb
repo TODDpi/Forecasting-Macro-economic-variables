{
 "cells": [
  {
   "cell_type": "code",
   "execution_count": 1,
   "metadata": {},
   "outputs": [],
   "source": [
    "import pandas as pd\n",
    "import numpy as np\n",
    "from sklearn.metrics import mean_squared_error\n",
    "from sklearn.model_selection import KFold, train_test_split\n",
    "from sklearn.neural_network import MLPRegressor\n",
    "import matplotlib.pyplot as plt"
   ]
  },
  {
   "cell_type": "code",
   "execution_count": 2,
   "metadata": {},
   "outputs": [
    {
     "name": "stdout",
     "output_type": "stream",
     "text": [
      "         Date  Exchange rate   Lag1   Lag2   Lag3   Lag4   Lag5   Lag6   Lag7  \\\n",
      "7  1996-10-18          42.45  42.45  42.45  42.45  42.45  42.45  42.45  42.45   \n",
      "8  1996-10-21          42.45  42.45  42.45  42.45  42.45  42.45  42.45  42.45   \n",
      "9  1996-10-22          42.45  42.45  42.45  42.45  42.45  42.45  42.45  42.45   \n",
      "10 1996-10-23          42.45  42.45  42.45  42.45  42.45  42.45  42.45  42.45   \n",
      "11 1996-10-24          42.45  42.45  42.45  42.45  42.45  42.45  42.45  42.45   \n",
      "\n",
      "    Day_of_Week  Month  Year  \n",
      "7            18     10  1996  \n",
      "8            21     10  1996  \n",
      "9            22     10  1996  \n",
      "10           23     10  1996  \n",
      "11           24     10  1996  \n"
     ]
    }
   ],
   "source": [
    "sheet_name='Sheet3'\n",
    "data= pd.read_excel(\"F:/Thesis/Nazmul sir/DATA/bangladesh-inflation-rate-cpi.xlsx\", sheet_name=sheet_name)\n",
    "\n",
    "\n",
    "for i in range(1,8):\n",
    "    data[f'Lag{i}']=data['Exchange rate'].shift(i)\n",
    "data.dropna(inplace=True)\n",
    "data['Day_of_Week'] = data['Date'].dt.day\n",
    "data['Month'] = data['Date'].dt.month\n",
    "data['Year'] = data['Date'].dt.year\n",
    "print(data.head())"
   ]
  },
  {
   "cell_type": "markdown",
   "metadata": {},
   "source": [
    "This one is for train-test split"
   ]
  },
  {
   "cell_type": "code",
   "execution_count": 3,
   "metadata": {},
   "outputs": [
    {
     "name": "stdout",
     "output_type": "stream",
     "text": [
      "average RMSE of the NN on test data: 0.3560638515677702\n"
     ]
    }
   ],
   "source": [
    "x=data.drop(columns=['Date','Exchange rate','Year'])\n",
    "y=data['Exchange rate']\n",
    "rmse_list=[]\n",
    "x_train,x_test,y_train,y_test=train_test_split(x,y,train_size=.8,random_state=42)\n",
    "kf=KFold(n_splits=100,shuffle=True,random_state=42)\n",
    "for train_index, val_index in kf.split(x_train):\n",
    "    x_train_cv,y_train_cv=x_train.iloc[train_index],y_train.iloc[train_index]\n",
    "    x_val,y_val=x_train.iloc[val_index],y_train.iloc[val_index]\n",
    "    model=MLPRegressor(hidden_layer_sizes=(8,7,7),activation='relu',solver='adam',random_state=42,max_iter=100000,early_stopping=True)\n",
    "    model.fit (x_train_cv,y_train_cv)\n",
    "    y_pred=model.predict(x_val)\n",
    "    rmse=mean_squared_error(y_pred,y_val,squared=False)\n",
    "    rmse_list.append(rmse)\n",
    "print(f\"average RMSE of the NN on test data: {np.mean(rmse_list)}\")\n",
    "\n",
    "\n"
   ]
  },
  {
   "cell_type": "code",
   "execution_count": 4,
   "metadata": {},
   "outputs": [
    {
     "name": "stdout",
     "output_type": "stream",
     "text": [
      "Rmse on test data 0.382100926625333\n"
     ]
    }
   ],
   "source": [
    "final_model=MLPRegressor(hidden_layer_sizes=(8,7,7),activation='relu',solver='adam',random_state=42,max_iter=100000,early_stopping=True)\n",
    "final_model.fit(x_train,y_train)\n",
    "prediction=final_model.predict(x_test)\n",
    "print(f'Rmse on test data {mean_squared_error(prediction,y_test,squared=False)}')"
   ]
  }
 ],
 "metadata": {
  "kernelspec": {
   "display_name": "Python 3",
   "language": "python",
   "name": "python3"
  },
  "language_info": {
   "codemirror_mode": {
    "name": "ipython",
    "version": 3
   },
   "file_extension": ".py",
   "mimetype": "text/x-python",
   "name": "python",
   "nbconvert_exporter": "python",
   "pygments_lexer": "ipython3",
   "version": "3.10.0"
  }
 },
 "nbformat": 4,
 "nbformat_minor": 2
}
