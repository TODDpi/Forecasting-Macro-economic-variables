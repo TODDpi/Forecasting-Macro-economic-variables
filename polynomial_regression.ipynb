{
 "cells": [
  {
   "cell_type": "code",
   "execution_count": 1,
   "metadata": {},
   "outputs": [],
   "source": [
    "from sklearn.preprocessing import PolynomialFeatures\n",
    "from sklearn.linear_model import LinearRegression\n",
    "from sklearn.model_selection import KFold,train_test_split\n",
    "from sklearn.metrics import mean_squared_error,r2_score\n",
    "import numpy as np\n",
    "import pandas as pd\n",
    "import matplotlib.pyplot as plt"
   ]
  },
  {
   "cell_type": "code",
   "execution_count": 2,
   "metadata": {},
   "outputs": [
    {
     "name": "stdout",
     "output_type": "stream",
     "text": [
      "     Lag1   Lag2   Lag3   Lag4   Lag5   Lag6   Lag7  Day_of_Week  Month\n",
      "7   42.45  42.45  42.45  42.45  42.45  42.45  42.45           18     10\n",
      "8   42.45  42.45  42.45  42.45  42.45  42.45  42.45           21     10\n",
      "9   42.45  42.45  42.45  42.45  42.45  42.45  42.45           22     10\n",
      "10  42.45  42.45  42.45  42.45  42.45  42.45  42.45           23     10\n",
      "11  42.45  42.45  42.45  42.45  42.45  42.45  42.45           24     10\n",
      "7     42.45\n",
      "8     42.45\n",
      "9     42.45\n",
      "10    42.45\n",
      "11    42.45\n",
      "Name: Exchange rate, dtype: float64\n"
     ]
    }
   ],
   "source": [
    "sheet_name='Sheet3'\n",
    "data= pd.read_excel(\"F:/Thesis/Nazmul sir/DATA/bangladesh-inflation-rate-cpi.xlsx\", sheet_name=sheet_name)\n",
    "\"\"\" print(data.head())\n",
    "plt.plot(data['Year'],data['Exchange rate'],'o-')\n",
    "plt.show() \"\"\"\n",
    "\n",
    "for i in range(1,8):\n",
    "    data[f'Lag{i}']=data['Exchange rate'].shift(i)\n",
    "data.dropna(inplace=True)\n",
    "data['Day_of_Week'] = data['Date'].dt.day\n",
    "data['Month'] = data['Date'].dt.month\n",
    "data['Year'] = data['Date'].dt.year\n",
    "\"\"\" print(data.head()) \"\"\"\n",
    "\n",
    "x=data.drop(columns=['Date','Exchange rate','Year'])\n",
    "y=data['Exchange rate']\n",
    "print(x.head())\n",
    "print(y.head())\n",
    "val_rmse_list=[]\n",
    "val_r2_list=[]"
   ]
  },
  {
   "cell_type": "code",
   "execution_count": 3,
   "metadata": {},
   "outputs": [
    {
     "name": "stdout",
     "output_type": "stream",
     "text": [
      "Average model RMSE for degree 1 is 0.27364519643278756\n",
      "Average model r_2 score for degree1 is 0.9995879740629706\n",
      "Average model RMSE for degree 2 is 0.28110258013028117\n",
      "Average model r_2 score for degree2 is 0.9995674040769437\n",
      "Average model RMSE for degree 3 is 0.36690165997538754\n",
      "Average model r_2 score for degree3 is 0.9987126101275131\n",
      "Average model RMSE for degree 4 is 2.1405935924270527\n",
      "Average model r_2 score for degree4 is 0.5456175456605089\n",
      "Average model RMSE for degree 5 is 75.4869134324507\n",
      "Average model r_2 score for degree5 is -955.9119320576524\n"
     ]
    }
   ],
   "source": [
    "x_train,x_test,y_train,y_test= train_test_split(x,y,train_size=.8,random_state=42)\n",
    "for degree in range (1,6):\n",
    "    kf=KFold(n_splits=100,shuffle=True,random_state=42)\n",
    "    for train_index, val_index in kf.split(x_train):\n",
    "        x_train_cv, x_val = x_train.iloc[train_index], x_train.iloc[val_index]\n",
    "        y_train_cv, y_val = y_train.iloc[train_index], y_train.iloc[val_index]\n",
    "\n",
    "        # Create polynomial features\n",
    "        poly = PolynomialFeatures(degree=degree)\n",
    "        x_train_poly_cv = poly.fit_transform(x_train_cv)\n",
    "        x_val_poly = poly.transform(x_val)\n",
    "\n",
    "        # Fit linear regression model\n",
    "        model = LinearRegression()\n",
    "        model.fit(x_train_poly_cv, y_train_cv)\n",
    "\n",
    "        # Make predictions on validation set\n",
    "        y_pred_val = model.predict(x_val_poly)\n",
    "\n",
    "        # Calculate validation RMSE\n",
    "        val_rmse = mean_squared_error(y_val, y_pred_val, squared=False)\n",
    "        val_rmse_list.append(val_rmse)\n",
    "        val_r2=r2_score(y_val,y_pred_val)\n",
    "        val_r2_list.append(val_r2)\n",
    "        y_numeric = pd.to_numeric(y_val, errors='coerce')\n",
    "       \n",
    "    # Calculate average model RMSE\n",
    "    mean_rmse = np.mean(val_rmse_list)\n",
    "    mean_r2=np.mean(val_r2_list)\n",
    "\n",
    "    # Print results\n",
    "    print(f\"Average model RMSE for degree {degree} is {mean_rmse}\")\n",
    "    print(f\"Average model r_2 score for degree{degree} is {mean_r2}\")\n",
    "\n"
   ]
  },
  {
   "cell_type": "code",
   "execution_count": 6,
   "metadata": {},
   "outputs": [
    {
     "name": "stdout",
     "output_type": "stream",
     "text": [
      "Final model rmse for degree 1 is: 0.24623620944873637\n",
      "Final model rmse for degree 2 is: 0.268021130440952\n",
      "Final model rmse for degree 3 is: 0.5902826776947777\n",
      "Final model rmse for degree 4 is: 17.97363902447372\n",
      "Final model rmse for degree 5 is: 1077.8886171046397\n"
     ]
    }
   ],
   "source": [
    "for degree in range (1,6):\n",
    "    poly=PolynomialFeatures(degree=degree)\n",
    "    x_train_poly=poly.fit_transform(x_train)\n",
    "    x_test_poly=poly.transform(x_test)\n",
    "    Final_model=LinearRegression()\n",
    "    Final_model.fit(x_train_poly,y_train)\n",
    "    Prediction=Final_model.predict(x_test_poly)\n",
    "    RMSE=mean_squared_error(Prediction,y_test,squared=False)\n",
    "    print (f\"Final model rmse for degree {degree} is: {RMSE}\")"
   ]
  }
 ],
 "metadata": {
  "kernelspec": {
   "display_name": "Python 3",
   "language": "python",
   "name": "python3"
  },
  "language_info": {
   "codemirror_mode": {
    "name": "ipython",
    "version": 3
   },
   "file_extension": ".py",
   "mimetype": "text/x-python",
   "name": "python",
   "nbconvert_exporter": "python",
   "pygments_lexer": "ipython3",
   "version": "3.10.0"
  }
 },
 "nbformat": 4,
 "nbformat_minor": 2
}
